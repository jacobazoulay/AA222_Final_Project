{
 "cells": [
  {
   "cell_type": "markdown",
   "metadata": {},
   "source": [
    "## Battery Charging Model \n",
    "Inspired by \"[2] Optimizing the operation of energy storage using a non-linear lithium-ion battery degradation model\""
   ]
  },
  {
   "cell_type": "markdown",
   "metadata": {},
   "source": [
    "### Objective Functions \n",
    "1. Balances Revenue stream and Degradation (Multi-Objetive Optimization) \\\n",
    "$\\zeta = \\omega{R} - (1 - \\omega)D$ \\\n",
    "$\\boldsymbol{\\omega}$ $\\rightarrow$ weighting factor $[0 \\rightarrow 1]$ \\\n",
    "$\\boldsymbol{D} \\rightarrow$ total degradation in market period $[Ah]$\\\n",
    "$\\boldsymbol{R} \\rightarrow revenue $ [\\$]\\\n",
    "2. Aims to maximize revenue \\\n",
    "$R = \\sum_t[\\lambda_t \\times (P_t^{dis,m} - P_t^{ch,m})]\\times\\Delta{T}$ \\\n",
    "$\\boldsymbol{R} \\rightarrow $ market clearing price $[\\frac{\\$}{Wh}]$\\\n",
    "$\\boldsymbol{\\lambda_t} \\rightarrow revenue [dollars]$ \\\n",
    "$\\boldsymbol{P_t^{dis,m}} \\rightarrow$ max power input to battery in trading interval $[W]$ \\\n",
    "$\\boldsymbol{P_t^{ch, m}} \\rightarrow$ max power output to battery in trading interval $[W]$ \\\n",
    "$\\boldsymbol{\\Delta{T}} \\rightarrow$ duration of trading interval $[hr]$ \\\n",
    "3. Aims to reduce degradation\n",
    "$D = \\sum_t{d_t}$\\\n",
    "$\\boldsymbol{D} \\rightarrow$ total degradation in market period $[Ah]$\\\n",
    "$\\boldsymbol{d_t} \\rightarrow$ total degradation incurred in each period $[Ah]$\\\n",
    "\n"
   ]
  },
  {
   "cell_type": "markdown",
   "metadata": {},
   "source": [
    "### Battery Updates\n",
    "4. Updates the state of the battery\\\n",
    "${SOC} = {SOC}_{t-1} + \\frac{(P_t^{dis,m} - P_t^{ch,m})\\times\\Delta{T}}{V_{nom}I_{1C}}$\\\n",
    "$\\boldsymbol{SOC_t} \\rightarrow$ state of charge, % measure of remaining capacity $[0 \\rightarrow 100]$\\\n",
    "$\\boldsymbol{P_t^{dis,m}} \\rightarrow$ max power output to battery in trading interval $[W]$ \\\n",
    "$\\boldsymbol{P_t^{ch, m}} \\rightarrow$ max power input to battery in trading interval $[W]$ \\\n",
    "$\\boldsymbol{\\Delta{T}} \\rightarrow$ duration of trading interval $[hr]$ \\\n",
    "$\\boldsymbol{V_{nom}} \\rightarrow$ nominal battery voltage $[V]$: The reported or reference voltage of the battery, $[4]$\\\n",
    "$\\boldsymbol{I_{1C}} \\rightarrow$ 1C Current $[A]$:s. A C-rate is a measure of the rate at which a battery is discharged relative to its\n",
    "maximum capacity. A 1C rate means that the discharge current will discharge the entire\n",
    "battery in 1 hour $[4]$"
   ]
  },
  {
   "cell_type": "markdown",
   "metadata": {},
   "source": [
    "### Constraints on Battery Updates\n",
    "5-6. These are constraints that limit the maximum power input and output and also ensure that battery is either charged or discharged in any time interval\n",
    "$0 \\leq P_t^{ch,b} \\leq P_t^{ch, m} \\times u_t$\\\n",
    "$0 \\leq P_t^{dis,b} \\leq P_t^{dis, m} \\times (1 - u_t)$\\\n",
    "$u_t = \\text{0 or 1} \\rightarrow binary$\\\n",
    "$\\boldsymbol{P_t^{dis,m}} \\rightarrow$ max power output to battery in trading interval $[W]$ \\\n",
    "$\\boldsymbol{P_t^{ch, m}} \\rightarrow$ max power input to battery in trading interval $[W]$ \\\n",
    "\\\n",
    "$ P_t^{ch,b} = P_t^{ch, m}\\eta$\\\n",
    "$ \\eta P_t^{dis,b} = P_t^{dis, m}$\n",
    "$ \\eta > 0$\n",
    "$\\boldsymbol{P_t^{dis,m}} \\rightarrow$ max power output to battery in trading interval $[W]$ \\\n",
    "$\\boldsymbol{P_t^{ch, m}} \\rightarrow$ max power input to battery in trading interval $[W]$ \\\n",
    "\n",
    "7. Sets boundary on SOC\\\n",
    "$0 \\leq SOC_t \\leq 100$ \n",
    "$\\boldsymbol{SOC_t} \\rightarrow$ state of charge, % measure of remaining capacity $[0 \\rightarrow 100]$\\\n"
   ]
  },
  {
   "cell_type": "markdown",
   "metadata": {},
   "source": [
    "## Battery Class Definition"
   ]
  },
  {
   "cell_type": "code",
   "execution_count": 13,
   "metadata": {},
   "outputs": [],
   "source": [
    "import numpy as np\n",
    "import matplotlib.pyplot as plt\n",
    "\n",
    "\n",
    "# Battery Class Definition Template\n",
    "class Battery():\n",
    "    # Initialize with instance variables for battery charging/degradation\n",
    "    \n",
    "    # SOC --> State of charge [represents measure of remaining capacity in percentage form]\n",
    "    # V_nom --> Nominal Voltage [Volts]\n",
    "    # P_ch_max --> Max power oup\n",
    "    # charging --> boolen: True if charging, False if dissipating\n",
    "    # eta --> Battery inefficiency constant (this is approximation from [2])\n",
    "    def __init__(self):\n",
    "        self.SOC = 100 #[Percentage]\n",
    "        self.SOC_prev = 100 #[Percentage]\n",
    "        self.V_nom = 5 #[Volts] --> do research to determine starting value\n",
    "        self.IC1 = 1 # [Variable] --> Can optimize during charging cycle\n",
    "        self.P_ch_max = 1 #[Watt] --> do research to determine starting value\n",
    "        self.P_dis_max = 1 #[Watt] --> do research to determine starting value\n",
    "        charging = False # [Bool] Initialize as not charging\n",
    "        eta = .95 # [Constant] Initial guess at inefficiency constant\n",
    "        deltaT = 1 # [Hours] Duration of trading interval\n",
    "        \n",
    "    def setSOC(self, val):\n",
    "        if (val > 100 or val < 0):\n",
    "            raise ValueError(\"SOC must be between 0 and 100\")\n",
    "        else:\n",
    "            self.SOC = val\n",
    "                \n",
    "    # Updates the SOC from one trading interval to the next     \n",
    "    def updateSOC(self, P_ch_b, P_dis_b, deltaT = 1):\n",
    "        self.SOC_prev = self.SOC\n",
    "        self.SOC = self.SOC + (P_ch_b - P_dis_b)*deltaT / (self.V_nom * self.IC1)\n",
    "        #Ensure that SOC lies in between 0 and 100 (constraint 7)\n",
    "        self.SOC = max(0, self.SOC)\n",
    "        self.SOC = min(100, self.SOC)\n",
    "        \n",
    "#     P_ch_b = P_ch_m * eta\n",
    "#     P_dis_b = P_dis_m / eta\n",
    "    \n",
    "    def getD_t1C(self, SOC, SOC_prev, plot=False):\n",
    "        # Cumulative degredation mapping manually determined based on fig 4 in the paper\n",
    "        # Leaving in the function for now (will eventually move to global variable)\n",
    "        SOC_x = np.linspace(0.0, 100.0, num=11)\n",
    "        cum_deg_y = np.array([0.0, 39.0, 47.0, 75.0, 75.0, 84.0, 101.0, 160.0, 269.0, 325.0, 372.0])\n",
    "        # Plots essentially the same plot as fig 4 in the paper\n",
    "        if plot:\n",
    "            plt.plot(SOC_x, cum_deg_y, marker='D')\n",
    "            plt.xlabel(\"SOC (%)\")\n",
    "            plt.ylabel(\"Cumulative Degredation (10^-6 Ah)\")\n",
    "        # Calculate d_t1C = abs(delta_t - delta_t-1)\n",
    "        delta1C = np.interp(SOC, SOC_x, cum_deg_y)\n",
    "        delta1C_prev = np.interp(SOC_prev, SOC_x, cum_deg_y)\n",
    "        d_t1C = np.abs(delta1C - delta1C_prev)\n",
    "        return d_t1C\n",
    "    \n",
    "    def getPsi(self, P_ch_b, P_dis_b):\n",
    "        # Psi scaling factor using experimental data to linearly interpolate depending on current\n",
    "        # Leaving in the function for now (will eventually move to global variable)\n",
    "        i_x = np.array([0.0, 1.0, 2.0])\n",
    "        psi_y = np.array([0.0, 1.0, 1.2956])\n",
    "        # Calculate i_t and use to determine psi\n",
    "        i_t = (P_ch_b + P_dis_b) / (self.V_nom * self.IC1)\n",
    "        psi = np.interp(i_t, i_x, psi_y)\n",
    "        return psi\n",
    "    \n",
    "    def getD_t(self, d_t1C, psi):\n",
    "        d_t = d_t1C * psi\n",
    "        return d_t\n",
    "        "
   ]
  },
  {
   "cell_type": "markdown",
   "metadata": {},
   "source": [
    "Very minimal example of how to do equation 4"
   ]
  },
  {
   "cell_type": "code",
   "execution_count": 14,
   "metadata": {},
   "outputs": [
    {
     "name": "stdout",
     "output_type": "stream",
     "text": [
      "55\n",
      "53.0\n"
     ]
    }
   ],
   "source": [
    "bat = Battery()\n",
    "bat.setSOC(55) # Set the initial charge\n",
    "powerCharged = 0 #W\n",
    "powerDissipated = 10 #W\n",
    "print(bat.SOC)\n",
    "bat.updateSOC(P_ch_b = powerCharged, P_dis_b = powerDissipated)\n",
    "print(bat.SOC)"
   ]
  },
  {
   "cell_type": "code",
   "execution_count": 16,
   "metadata": {},
   "outputs": [
    {
     "name": "stdout",
     "output_type": "stream",
     "text": [
      "3.4000000000000057\n",
      "1.2956\n",
      "4.405040000000008\n"
     ]
    },
    {
     "data": {
      "image/png": "[encoded data removed]",
      "text/plain": [
       "<Figure size 432x288 with 1 Axes>"
      ]
     },
     "metadata": {
      "needs_background": "light"
     },
     "output_type": "display_data"
    }
   ],
   "source": [
    "d_t1C = bat.getD_t1C(bat.SOC, bat.SOC_prev, True)\n",
    "psi = bat.getPsi(P_ch_b = powerCharged, P_dis_b = powerDissipated)\n",
    "d_t = bat.getD_t(d_t1C, psi)\n",
    "print(d_t1C)\n",
    "print(psi)\n",
    "print(d_t)"
   ]
  }
 ],
 "metadata": {
  "kernelspec": {
   "display_name": "Python 3 (ipykernel)",
   "language": "python",
   "name": "python3"
  },
  "language_info": {
   "codemirror_mode": {
    "name": "ipython",
    "version": 3
   },
   "file_extension": ".py",
   "mimetype": "text/x-python",
   "name": "python",
   "nbconvert_exporter": "python",
   "pygments_lexer": "ipython3",
   "version": "3.10.0"
  }
 },
 "nbformat": 4,
 "nbformat_minor": 2
}
