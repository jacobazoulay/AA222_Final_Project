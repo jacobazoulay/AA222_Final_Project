{
 "cells": [
  {
   "cell_type": "markdown",
   "metadata": {},
   "source": [
    "## Import necessary libraries"
   ]
  },
  {
   "cell_type": "code",
   "execution_count": 1,
   "metadata": {},
   "outputs": [],
   "source": [
    "import numpy as np\n",
    "import matplotlib.pyplot as plt\n",
    "import pandas as pd\n",
    "import datetime as dt"
   ]
  },
  {
   "cell_type": "markdown",
   "metadata": {},
   "source": [
    "## Read in dataset and add useful columns"
   ]
  },
  {
   "cell_type": "code",
   "execution_count": 2,
   "metadata": {},
   "outputs": [],
   "source": [
    "df = pd.read_csv('AEP.csv')\n",
    "df['Date'] = pd.to_datetime(df['Datetime'])\n",
    "df['year'] = pd.DatetimeIndex(df['Date']).year\n",
    "df['hour'] = pd.DatetimeIndex(df['Date']).hour"
   ]
  },
  {
   "cell_type": "markdown",
   "metadata": {},
   "source": [
    "## Only use 2018 data for now"
   ]
  },
  {
   "cell_type": "code",
   "execution_count": 3,
   "metadata": {},
   "outputs": [
    {
     "name": "stderr",
     "output_type": "stream",
     "text": [
      "C:\\Users\\nicoc\\Anaconda3\\lib\\site-packages\\ipykernel_launcher.py:2: SettingWithCopyWarning: \n",
      "A value is trying to be set on a copy of a slice from a DataFrame.\n",
      "Try using .loc[row_indexer,col_indexer] = value instead\n",
      "\n",
      "See the caveats in the documentation: https://pandas.pydata.org/pandas-docs/stable/user_guide/indexing.html#returning-a-view-versus-a-copy\n",
      "  \n"
     ]
    }
   ],
   "source": [
    "df_18 = df[df['year'] == 2018]\n",
    "df_18['Days'] = range(len(df_18))"
   ]
  },
  {
   "cell_type": "markdown",
   "metadata": {},
   "source": [
    "## Functions to use"
   ]
  },
  {
   "cell_type": "code",
   "execution_count": 62,
   "metadata": {},
   "outputs": [],
   "source": [
    "# Use squared exponential as the kernel\n",
    "# Parameters x, xi [value for k(x, xi)]\n",
    "# Parametrs l --> Characteristic lenght\n",
    "# Parameter a --> scalar to help give good results for our function (idk why)\n",
    "def squared_exponential(x, xi, l = 2, a = 2):\n",
    "    rtn = np.exp(-(a*(x - xi))**2/(2*l**2))\n",
    "    return rtn\n",
    "\n",
    "# Create the kernel matrix from two lists of X and Xpr\n",
    "def kernel_matrix(X, Xpr):\n",
    "    j = np.array([squared_exponential(a, b) for a in Xpr['Days'] for b in X['Days']])\n",
    "    return j.reshape((len(X), len(Xpr)))\n",
    "\n",
    "# Predict the mean based on the data you are predicting from\n",
    "def mean_predict(df, hr):\n",
    "    #df = df[df['Days'] < day]\n",
    "    correct_hour = df[df['hour'] == hr]\n",
    "    return np.mean(correct_hour.AEP_MW)"
   ]
  },
  {
   "cell_type": "markdown",
   "metadata": {},
   "source": [
    "### Below cell allows us to define the Gaussian process with respect to section 15.2 of the book"
   ]
  },
  {
   "cell_type": "code",
   "execution_count": 137,
   "metadata": {},
   "outputs": [],
   "source": [
    "# Start at a random day of the year\n",
    "start_index = np.random.uniform() * 365\n",
    "start_index = int(np.floor(start_index))\n",
    "# Use prior 3 days to predict next day\n",
    "X = df_18.iloc[start_index: start_index + 72]\n",
    "Xpr = df_18.iloc[start_index + 72:start_index + 96]\n",
    "# Form kernels\n",
    "K_XX = kernel_matrix(X, X)\n",
    "K_XXpr = kernel_matrix(X, Xpr)\n",
    "K_XprX = kernel_matrix(Xpr, X)\n",
    "K_XprXpr = kernel_matrix(Xpr, Xpr)\n",
    "# Form means\n",
    "meanX = np.array([mean_predict(X, hr) for hr in X['hour']])\n",
    "meanXpr = np.array([mean_predict(X, hr) for hr in Xpr['hour']])\n",
    "# actual y value\n",
    "y = X['AEP_MW']"
   ]
  },
  {
   "cell_type": "markdown",
   "metadata": {},
   "source": [
    "### Define mu and cov according to Equation 15.13"
   ]
  },
  {
   "cell_type": "code",
   "execution_count": 138,
   "metadata": {},
   "outputs": [],
   "source": [
    "mu = meanXpr + K_XprX@np.linalg.inv(K_XX)@(y - meanX)\n",
    "cov =  K_XprXpr - K_XprX@np.linalg.inv(K_XX)@K_XXpr"
   ]
  },
  {
   "cell_type": "markdown",
   "metadata": {},
   "source": [
    "### The function mvnrand samples from a multivariate Gaussian with an added inflation factor to prevent numerical issues."
   ]
  },
  {
   "cell_type": "code",
   "execution_count": 139,
   "metadata": {},
   "outputs": [],
   "source": [
    "def mvnrand(μ, Σ, inflation=1e-6):\n",
    "    x = np.random.multivariate_normal(μ, 1000000*Σ + inflation*np.eye(Σ.shape[0]), 1)\n",
    "    return x[0]"
   ]
  },
  {
   "cell_type": "markdown",
   "metadata": {},
   "source": [
    "### This would be the \"Worst case\" result"
   ]
  },
  {
   "cell_type": "code",
   "execution_count": 140,
   "metadata": {},
   "outputs": [
    {
     "name": "stderr",
     "output_type": "stream",
     "text": [
      "C:\\Users\\nicoc\\Anaconda3\\lib\\site-packages\\ipykernel_launcher.py:2: RuntimeWarning: covariance is not positive-semidefinite.\n",
      "  \n"
     ]
    },
    {
     "data": {
      "text/plain": [
       "array([17962.45273413, 17724.65509117, 19273.98777094, 19797.81342305,\n",
       "       19042.7571035 , 18426.42957376, 19126.5815096 , 17320.86525392,\n",
       "       16624.51528463, 17593.14948893, 15478.44673481, 11817.29552669,\n",
       "       13161.14277659, 14601.53776635, 13777.2251588 , 12913.90982662,\n",
       "       13978.55954168, 15025.48217313, 15235.75760353, 14716.28208169,\n",
       "       15391.42774653, 16235.30424707, 17362.65047014, 19271.8292062 ])"
      ]
     },
     "execution_count": 140,
     "metadata": {},
     "output_type": "execute_result"
    }
   ],
   "source": [
    "worst_value = -float('inf')\n",
    "worst = None\n",
    "for i in range(10):\n",
    "    # Sample using mvnrand above using defined mu and cov\n",
    "    j = mvnrand(mu, cov)\n",
    "    # Get the area underneath the sample of points (a.k.a the integral)\n",
    "    area = np.trapz(range(len(j)), j)\n",
    "    if area > worst_value:\n",
    "        worst=area\n",
    "        worst = j\n",
    "    \n",
    "worst\n",
    "    "
   ]
  },
  {
   "cell_type": "markdown",
   "metadata": {},
   "source": [
    "## Useful Smoothing Function taken from here: https://scipy.github.io/old-wiki/pages/Cookbook/SavitzkyGolay"
   ]
  },
  {
   "cell_type": "code",
   "execution_count": 141,
   "metadata": {},
   "outputs": [],
   "source": [
    "from math import factorial\n",
    "def savitzky_golay(y, window_size, order, deriv=0, rate=1):\n",
    "    r\"\"\"Smooth (and optionally differentiate) data with a Savitzky-Golay filter.\n",
    "    The Savitzky-Golay filter removes high frequency noise from data.\n",
    "    It has the advantage of preserving the original shape and\n",
    "    features of the signal better than other types of filtering\n",
    "    approaches, such as moving averages techniques.\n",
    "    Parameters\n",
    "    ----------\n",
    "    y : array_like, shape (N,)\n",
    "        the values of the time history of the signal.\n",
    "    window_size : int\n",
    "        the length of the window. Must be an odd integer number.\n",
    "    order : int\n",
    "        the order of the polynomial used in the filtering.\n",
    "        Must be less then `window_size` - 1.\n",
    "    deriv: int\n",
    "        the order of the derivative to compute (default = 0 means only smoothing)\n",
    "    Returns\n",
    "    -------\n",
    "    ys : ndarray, shape (N)\n",
    "        the smoothed signal (or it's n-th derivative).\n",
    "    Notes\n",
    "    -----\n",
    "    The Savitzky-Golay is a type of low-pass filter, particularly\n",
    "    suited for smoothing noisy data. The main idea behind this\n",
    "    approach is to make for each point a least-square fit with a\n",
    "    polynomial of high order over a odd-sized window centered at\n",
    "    the point.\n",
    "    Examples\n",
    "    --------\n",
    "    t = np.linspace(-4, 4, 500)\n",
    "    y = np.exp( -t**2 ) + np.random.normal(0, 0.05, t.shape)\n",
    "    ysg = savitzky_golay(y, window_size=31, order=4)\n",
    "    import matplotlib.pyplot as plt\n",
    "    plt.plot(t, y, label='Noisy signal')\n",
    "    plt.plot(t, np.exp(-t**2), 'k', lw=1.5, label='Original signal')\n",
    "    plt.plot(t, ysg, 'r', label='Filtered signal')\n",
    "    plt.legend()\n",
    "    plt.show()\n",
    "    References\n",
    "    ----------\n",
    "    .. [1] A. Savitzky, M. J. E. Golay, Smoothing and Differentiation of\n",
    "       Data by Simplified Least Squares Procedures. Analytical\n",
    "       Chemistry, 1964, 36 (8), pp 1627-1639.\n",
    "    .. [2] Numerical Recipes 3rd Edition: The Art of Scientific Computing\n",
    "       W.H. Press, S.A. Teukolsky, W.T. Vetterling, B.P. Flannery\n",
    "       Cambridge University Press ISBN-13: 9780521880688\n",
    "    \"\"\"\n",
    "    \n",
    "    try:\n",
    "        window_size = np.abs(np.int(window_size))\n",
    "        order = np.abs(np.int(order))\n",
    "    except ValueError:\n",
    "        raise ValueError(\"window_size and order have to be of type int\")\n",
    "    if window_size % 2 != 1 or window_size < 1:\n",
    "        raise TypeError(\"window_size size must be a positive odd number\")\n",
    "    if window_size < order + 2:\n",
    "        raise TypeError(\"window_size is too small for the polynomials order\")\n",
    "    order_range = range(order+1)\n",
    "    half_window = (window_size -1) // 2\n",
    "    # precompute coefficients\n",
    "    b = np.mat([[k**i for i in order_range] for k in range(-half_window, half_window+1)])\n",
    "    m = np.linalg.pinv(b).A[deriv] * rate**deriv * factorial(deriv)\n",
    "    # pad the signal at the extremes with\n",
    "    # values taken from the signal itself\n",
    "    firstvals = y[0] - np.abs( y[1:half_window+1][::-1] - y[0] )\n",
    "    lastvals = y[-1] + np.abs(y[-half_window-1:-1][::-1] - y[-1])\n",
    "    y = np.concatenate((firstvals, y, lastvals))\n",
    "    return np.convolve( m[::-1], y, mode='valid')"
   ]
  },
  {
   "cell_type": "markdown",
   "metadata": {},
   "source": [
    "### Plot the values!"
   ]
  },
  {
   "cell_type": "code",
   "execution_count": 146,
   "metadata": {},
   "outputs": [
    {
     "name": "stderr",
     "output_type": "stream",
     "text": [
      "C:\\Users\\nicoc\\Anaconda3\\lib\\site-packages\\ipykernel_launcher.py:52: DeprecationWarning: `np.int` is a deprecated alias for the builtin `int`. To silence this warning, use `int` by itself. Doing this will not modify any behavior and is safe. When replacing `np.int`, you may wish to use e.g. `np.int64` or `np.int32` to specify the precision. If you wish to review your current use, check the release note link for additional information.\n",
      "Deprecated in NumPy 1.20; for more details and guidance: https://numpy.org/devdocs/release/1.20.0-notes.html#deprecations\n",
      "C:\\Users\\nicoc\\Anaconda3\\lib\\site-packages\\ipykernel_launcher.py:53: DeprecationWarning: `np.int` is a deprecated alias for the builtin `int`. To silence this warning, use `int` by itself. Doing this will not modify any behavior and is safe. When replacing `np.int`, you may wish to use e.g. `np.int64` or `np.int32` to specify the precision. If you wish to review your current use, check the release note link for additional information.\n",
      "Deprecated in NumPy 1.20; for more details and guidance: https://numpy.org/devdocs/release/1.20.0-notes.html#deprecations\n"
     ]
    },
    {
     "data": {
      "text/plain": [
       "<matplotlib.legend.Legend at 0x183e4647608>"
      ]
     },
     "execution_count": 146,
     "metadata": {},
     "output_type": "execute_result"
    },
    {
     "data": {
      "image/png": "[encoded data removed]",
      "text/plain": [
       "<Figure size 432x288 with 1 Axes>"
      ]
     },
     "metadata": {
      "needs_background": "light"
     },
     "output_type": "display_data"
    }
   ],
   "source": [
    "#plt.plot(range(-95,1), X['AEP_MW'], 'g')\n",
    "plt.figure()\n",
    "plt.plot(range(24), worst, 'r', label = 'Unfiltered worst case prediction') # The unfiltered data\n",
    "plt.plot(range(24), savitzky_golay(worst, 9, 2),'b',label = 'Filtered worst case prediction') #The filtered data using savitzky golay\n",
    "plt.plot(range(24), meanXpr,'orange', label = 'No kernel prediction') # The \"mean\" prediction without using the kernel at all\n",
    "plt.plot(range(24), Xpr['AEP_MW'],'g', label = 'Actual') # The actual value\n",
    "plt.xlabel('Hours (0 does NOT mean midnight necessarily)')\n",
    "plt.ylabel('Usage[MWh]')\n",
    "plt.legend()"
   ]
  }
 ],
 "metadata": {
  "kernelspec": {
   "display_name": "Python 3",
   "language": "python",
   "name": "python3"
  },
  "language_info": {
   "codemirror_mode": {
    "name": "ipython",
    "version": 3
   },
   "file_extension": ".py",
   "mimetype": "text/x-python",
   "name": "python",
   "nbconvert_exporter": "python",
   "pygments_lexer": "ipython3",
   "version": "3.7.4"
  }
 },
 "nbformat": 4,
 "nbformat_minor": 2
}
