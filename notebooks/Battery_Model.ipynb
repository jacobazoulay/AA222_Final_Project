{
 "cells": [
  {
   "cell_type": "markdown",
   "metadata": {},
   "source": [
    "## Battery Charging Model "
   ]
  },
  {
   "cell_type": "markdown",
   "metadata": {},
   "source": [
    "### Objective Functions \n",
    "1. Balances Revenue stream and Degradation (Multi-Objetive Optimization) \\\n",
    "$\\zeta = \\omega{R} - (1 - \\omega)D$ \\\n",
    "$\\boldsymbol{\\omega}$ $\\rightarrow$ weighting factor $[0 \\rightarrow 1]$ \\\n",
    "$\\boldsymbol{D} \\rightarrow$ total degradation in market period $[Ah]$\\\n",
    "$\\boldsymbol{R} \\rightarrow revenue $[dollars]$$\\\n",
    "2. Aims to maximize revenue \\\n",
    "$R = \\sum_t[\\lambda_t \\times (P_t^{dis,m} - P_t^{ch,m})]\\times\\Delta{T}$ \\\n",
    "$\\boldsymbol{R} \\rightarrow $ market clearing price $[\\frac{\\$}{Wh}]$\\\n",
    "$\\boldsymbol{\\lambda_t} \\rightarrow revenue [dollars]$ \\\n",
    "$\\boldsymbol{P_t^{dis,m}} \\rightarrow$ max power input to battery in trading interval $[W]$ \\\n",
    "$\\boldsymbol{P_t^{ch, m}} \\rightarrow$ max power output to battery in trading interval $[W]$ \\\n",
    "$\\boldsymbol{\\Delta{T}} \\rightarrow$ duration of trading interval $[hr]$ \\\n",
    "3. Aims to reduce degradation\n",
    "$D = \\sum_t{d_t}$\\\n",
    "$\\boldsymbol{D} \\rightarrow$ total degradation in market period $[Ah]$\\\n",
    "$\\boldsymbol{d_t} \\rightarrow$ total degradation incurred in each period $[Ah]$\\\n",
    "\n"
   ]
  },
  {
   "cell_type": "markdown",
   "metadata": {},
   "source": [
    "### Battery Updates\n",
    "4. Updates the state of the battery\\\n",
    "${SOC} = {SOC}_{t-1} + \\frac{(P_t^{dis,m} - P_t^{ch,m})\\times\\Delta{T}}{V_{nom}I_{1C}}$\\\n",
    "$\\boldsymbol{SOC_t} \\rightarrow$ state of charge, % measure of remaining capacity $[0 \\rightarrow 100]$\\\n",
    "$\\boldsymbol{P_t^{dis,m}} \\rightarrow$ max power input to battery in trading interval $[W]$ \\\n",
    "$\\boldsymbol{P_t^{ch, m}} \\rightarrow$ max power output to battery in trading interval $[W]$ \\\n",
    "$\\boldsymbol{\\Delta{T}} \\rightarrow$ duration of trading interval $[hr]$ \\\n",
    "$\\boldsymbol{V_{nom}} \\rightarrow$ nominal battery voltage $[V]$ \\\n",
    "$\\boldsymbol{I_{1C}} \\rightarrow$ 1C Current $[A]$"
   ]
  },
  {
   "cell_type": "markdown",
   "metadata": {},
   "source": [
    "### Constraints on Battery Updates\n",
    "5-6. These are constraints that limit the maximum power input and output and also ensure that battery is either charged or discharged in any time interval\n",
    "$0 \\leq P_t^{ch,b} \\leq P_t^{ch, m} \\times u_t$\\\n",
    "$0 \\leq P_t^{dis,b} \\leq P_t^{dis, m} \\times (1 - u_t)$\\\n",
    "$u_t = \\text{0 or 1} \\rightarrow binary$\\\n",
    "$\\boldsymbol{P_t^{dis,m}} \\rightarrow$ max power input to battery in trading interval $[W]$ \\\n",
    "$\\boldsymbol{P_t^{ch, m}} \\rightarrow$ max power output to battery in trading interval $[W]$ \\\n",
    "\\\n",
    "$ P_t^{ch,b} = P_t^{ch, m}\\eta$\\\n",
    "$ \\eta P_t^{dis,b} = P_t^{dis, m}$\n",
    "$ \\eta > 0$\n",
    "$\\boldsymbol{P_t^{dis,m}} \\rightarrow$ max power input to battery in trading interval $[W]$ \\\n",
    "$\\boldsymbol{P_t^{ch, m}} \\rightarrow$ max power output to battery in trading interval $[W]$ \\\n",
    "\n",
    "7. Sets boundary on SOC\\\n",
    "$0 \\leq SOC_t \\leq 100$ \n",
    "$\\boldsymbol{SOC_t} \\rightarrow$ state of charge, % measure of remaining capacity $[0 \\rightarrow 100]$\\\n"
   ]
  }
 ],
 "metadata": {
  "kernelspec": {
   "display_name": "Python 3",
   "language": "python",
   "name": "python3"
  },
  "language_info": {
   "codemirror_mode": {
    "name": "ipython",
    "version": 3
   },
   "file_extension": ".py",
   "mimetype": "text/x-python",
   "name": "python",
   "nbconvert_exporter": "python",
   "pygments_lexer": "ipython3",
   "version": "3.7.4"
  }
 },
 "nbformat": 4,
 "nbformat_minor": 2
}
