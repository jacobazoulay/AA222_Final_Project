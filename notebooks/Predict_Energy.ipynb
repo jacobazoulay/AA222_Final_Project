{
 "cells": [
  {
   "cell_type": "code",
   "execution_count": 2,
   "metadata": {},
   "outputs": [],
   "source": [
    "import numpy as np\n",
    "import matplotlib.pyplot as plt\n",
    "import pandas as pd\n",
    "import datetime as dt"
   ]
  },
  {
   "cell_type": "code",
   "execution_count": 3,
   "metadata": {},
   "outputs": [],
   "source": [
    "df = pd.read_csv('AEP.csv')\n",
    "df['Date'] = pd.to_datetime(df['Datetime'])\n",
    "df['year'] = pd.DatetimeIndex(df['Date']).year\n",
    "df['hour'] = pd.DatetimeIndex(df['Date']).hour"
   ]
  },
  {
   "cell_type": "code",
   "execution_count": 4,
   "metadata": {},
   "outputs": [
    {
     "name": "stderr",
     "output_type": "stream",
     "text": [
      "C:\\Users\\nicoc\\Anaconda3\\lib\\site-packages\\ipykernel_launcher.py:2: SettingWithCopyWarning: \n",
      "A value is trying to be set on a copy of a slice from a DataFrame.\n",
      "Try using .loc[row_indexer,col_indexer] = value instead\n",
      "\n",
      "See the caveats in the documentation: https://pandas.pydata.org/pandas-docs/stable/user_guide/indexing.html#returning-a-view-versus-a-copy\n",
      "  \n"
     ]
    }
   ],
   "source": [
    "df_18 = df[df['year'] == 2018]\n",
    "df_18['Days'] = range(len(df_18))"
   ]
  },
  {
   "cell_type": "code",
   "execution_count": 288,
   "metadata": {},
   "outputs": [],
   "source": [
    "def mean(X, add = 0):\n",
    "    return X + add\n",
    "\n",
    "def squared_exponential(x, xi, l = 2, a = 2):\n",
    "    rtn = np.exp(-(a*(x - xi))**2/(2*l**2))\n",
    "    return rtn\n",
    "\n",
    "def kernel_matrix(X, Xpr):\n",
    "    j = np.array([squared_exponential(a, b) for a in Xpr['Days'] for b in X['Days']])\n",
    "    return j.reshape((len(X), len(Xpr)))\n",
    "\n",
    "def mean_predict(df, hr):\n",
    "    #df = df[df['Days'] < day]\n",
    "    correct_hour = df[df['hour'] == hr]\n",
    "    return np.mean(correct_hour.AEP_MW)"
   ]
  },
  {
   "cell_type": "code",
   "execution_count": 289,
   "metadata": {},
   "outputs": [],
   "source": [
    "start_index = np.random.uniform() * 365\n",
    "start_index = int(np.floor(start_index))\n",
    "X = df_18.iloc[start_index - 24: start_index + 24]\n",
    "Xpr = df_18.iloc[start_index + 24:start_index + 48]\n",
    "\n",
    "K_XX = kernel_matrix(X, X)\n",
    "K_XXpr = kernel_matrix(X, Xpr)\n",
    "K_XprX = kernel_matrix(Xpr, X)\n",
    "K_XprXpr = kernel_matrix(Xpr, Xpr)\n",
    "meanX = np.array([mean_predict(df_18, hr) for hr in X['hour']])\n",
    "meanXpr = np.array([mean_predict(df_18, hr) for hr in Xpr['hour']])\n",
    "y = X['AEP_MW']"
   ]
  },
  {
   "cell_type": "code",
   "execution_count": 290,
   "metadata": {},
   "outputs": [],
   "source": [
    "mu = meanXpr + K_XprX@np.linalg.inv(K_XX)@(y - meanX)\n",
    "cov =  K_XprXpr - K_XprX@np.linalg.inv(K_XX)@K_XXpr"
   ]
  },
  {
   "cell_type": "code",
   "execution_count": 198,
   "metadata": {},
   "outputs": [],
   "source": [
    "def mvnrand(μ, Σ, inflation=1e-6):\n",
    "    x = np.random.multivariate_normal(μ, 1000000*Σ + inflation*np.eye(Σ.shape[0]), 1)\n",
    "    print(x)\n",
    "    return x[0]"
   ]
  },
  {
   "cell_type": "code",
   "execution_count": 291,
   "metadata": {},
   "outputs": [
    {
     "name": "stdout",
     "output_type": "stream",
     "text": [
      "[[15332.32935631 14017.96575704 14667.05354675 14966.58733256\n",
      "  14739.83932361 13265.2537588  12276.90707917 13856.80134873\n",
      "  15100.97188104 15376.92667977 16210.28137448 16245.42095483\n",
      "  14698.63243125 14884.07794734 16228.04947428 17209.35808615\n",
      "  16138.64439412 15726.85121027 15588.9023946  15869.33486932\n",
      "  15666.07181247 15436.82295246 16099.96981813 17201.55910893]]\n"
     ]
    },
    {
     "name": "stderr",
     "output_type": "stream",
     "text": [
      "C:\\Users\\nicoc\\Anaconda3\\lib\\site-packages\\ipykernel_launcher.py:2: RuntimeWarning: covariance is not positive-semidefinite.\n",
      "  \n"
     ]
    },
    {
     "data": {
      "text/plain": [
       "[<matplotlib.lines.Line2D at 0x242edc4d508>]"
      ]
     },
     "execution_count": 291,
     "metadata": {},
     "output_type": "execute_result"
    },
    {
     "data": {
      "image/png": "[encoded data removed]",
      "text/plain": [
       "<Figure size 432x288 with 1 Axes>"
      ]
     },
     "metadata": {
      "needs_background": "light"
     },
     "output_type": "display_data"
    }
   ],
   "source": [
    "plt.plot(range(24), mvnrand(mu, cov))\n",
    "plt.plot(range(24), meanXpr)\n",
    "plt.plot(range(24), Xpr['AEP_MW'])"
   ]
  },
  {
   "cell_type": "code",
   "execution_count": 173,
   "metadata": {},
   "outputs": [
    {
     "data": {
      "text/plain": [
       "array([[5.38018616e-032, 1.91547895e-029, 5.31109225e-027,\n",
       "        1.14687658e-024, 1.92874985e-022, 2.52616378e-020,\n",
       "        2.57675711e-018, 2.04697171e-016, 1.26641655e-014,\n",
       "        6.10193668e-013, 2.28973485e-011, 6.69158609e-010,\n",
       "        1.52299797e-008, 2.69957850e-007, 3.72665317e-006,\n",
       "        4.00652974e-005, 3.35462628e-004, 2.18749112e-003,\n",
       "        1.11089965e-002, 4.39369336e-002, 1.35335283e-001,\n",
       "        3.24652467e-001, 6.06530660e-001, 8.82496903e-001],\n",
       "       [1.17691094e-034, 5.38018616e-032, 1.91547895e-029,\n",
       "        5.31109225e-027, 1.14687658e-024, 1.92874985e-022,\n",
       "        2.52616378e-020, 2.57675711e-018, 2.04697171e-016,\n",
       "        1.26641655e-014, 6.10193668e-013, 2.28973485e-011,\n",
       "        6.69158609e-010, 1.52299797e-008, 2.69957850e-007,\n",
       "        3.72665317e-006, 4.00652974e-005, 3.35462628e-004,\n",
       "        2.18749112e-003, 1.11089965e-002, 4.39369336e-002,\n",
       "        1.35335283e-001, 3.24652467e-001, 6.06530660e-001],\n",
       "       [2.00500878e-037, 1.17691094e-034, 5.38018616e-032,\n",
       "        1.91547895e-029, 5.31109225e-027, 1.14687658e-024,\n",
       "        1.92874985e-022, 2.52616378e-020, 2.57675711e-018,\n",
       "        2.04697171e-016, 1.26641655e-014, 6.10193668e-013,\n",
       "        2.28973485e-011, 6.69158609e-010, 1.52299797e-008,\n",
       "        2.69957850e-007, 3.72665317e-006, 4.00652974e-005,\n",
       "        3.35462628e-004, 2.18749112e-003, 1.11089965e-002,\n",
       "        4.39369336e-002, 1.35335283e-001, 3.24652467e-001],\n",
       "       [2.66020642e-040, 2.00500878e-037, 1.17691094e-034,\n",
       "        5.38018616e-032, 1.91547895e-029, 5.31109225e-027,\n",
       "        1.14687658e-024, 1.92874985e-022, 2.52616378e-020,\n",
       "        2.57675711e-018, 2.04697171e-016, 1.26641655e-014,\n",
       "        6.10193668e-013, 2.28973485e-011, 6.69158609e-010,\n",
       "        1.52299797e-008, 2.69957850e-007, 3.72665317e-006,\n",
       "        4.00652974e-005, 3.35462628e-004, 2.18749112e-003,\n",
       "        1.11089965e-002, 4.39369336e-002, 1.35335283e-001],\n",
       "       [2.74878501e-043, 2.66020642e-040, 2.00500878e-037,\n",
       "        1.17691094e-034, 5.38018616e-032, 1.91547895e-029,\n",
       "        5.31109225e-027, 1.14687658e-024, 1.92874985e-022,\n",
       "        2.52616378e-020, 2.57675711e-018, 2.04697171e-016,\n",
       "        1.26641655e-014, 6.10193668e-013, 2.28973485e-011,\n",
       "        6.69158609e-010, 1.52299797e-008, 2.69957850e-007,\n",
       "        3.72665317e-006, 4.00652974e-005, 3.35462628e-004,\n",
       "        2.18749112e-003, 1.11089965e-002, 4.39369336e-002],\n",
       "       [2.21203803e-046, 2.74878501e-043, 2.66020642e-040,\n",
       "        2.00500878e-037, 1.17691094e-034, 5.38018616e-032,\n",
       "        1.91547895e-029, 5.31109225e-027, 1.14687658e-024,\n",
       "        1.92874985e-022, 2.52616378e-020, 2.57675711e-018,\n",
       "        2.04697171e-016, 1.26641655e-014, 6.10193668e-013,\n",
       "        2.28973485e-011, 6.69158609e-010, 1.52299797e-008,\n",
       "        2.69957850e-007, 3.72665317e-006, 4.00652974e-005,\n",
       "        3.35462628e-004, 2.18749112e-003, 1.11089965e-002],\n",
       "       [1.38634329e-049, 2.21203803e-046, 2.74878501e-043,\n",
       "        2.66020642e-040, 2.00500878e-037, 1.17691094e-034,\n",
       "        5.38018616e-032, 1.91547895e-029, 5.31109225e-027,\n",
       "        1.14687658e-024, 1.92874985e-022, 2.52616378e-020,\n",
       "        2.57675711e-018, 2.04697171e-016, 1.26641655e-014,\n",
       "        6.10193668e-013, 2.28973485e-011, 6.69158609e-010,\n",
       "        1.52299797e-008, 2.69957850e-007, 3.72665317e-006,\n",
       "        4.00652974e-005, 3.35462628e-004, 2.18749112e-003],\n",
       "       [6.76667568e-053, 1.38634329e-049, 2.21203803e-046,\n",
       "        2.74878501e-043, 2.66020642e-040, 2.00500878e-037,\n",
       "        1.17691094e-034, 5.38018616e-032, 1.91547895e-029,\n",
       "        5.31109225e-027, 1.14687658e-024, 1.92874985e-022,\n",
       "        2.52616378e-020, 2.57675711e-018, 2.04697171e-016,\n",
       "        1.26641655e-014, 6.10193668e-013, 2.28973485e-011,\n",
       "        6.69158609e-010, 1.52299797e-008, 2.69957850e-007,\n",
       "        3.72665317e-006, 4.00652974e-005, 3.35462628e-004],\n",
       "       [2.57220937e-056, 6.76667568e-053, 1.38634329e-049,\n",
       "        2.21203803e-046, 2.74878501e-043, 2.66020642e-040,\n",
       "        2.00500878e-037, 1.17691094e-034, 5.38018616e-032,\n",
       "        1.91547895e-029, 5.31109225e-027, 1.14687658e-024,\n",
       "        1.92874985e-022, 2.52616378e-020, 2.57675711e-018,\n",
       "        2.04697171e-016, 1.26641655e-014, 6.10193668e-013,\n",
       "        2.28973485e-011, 6.69158609e-010, 1.52299797e-008,\n",
       "        2.69957850e-007, 3.72665317e-006, 4.00652974e-005],\n",
       "       [7.61489029e-060, 2.57220937e-056, 6.76667568e-053,\n",
       "        1.38634329e-049, 2.21203803e-046, 2.74878501e-043,\n",
       "        2.66020642e-040, 2.00500878e-037, 1.17691094e-034,\n",
       "        5.38018616e-032, 1.91547895e-029, 5.31109225e-027,\n",
       "        1.14687658e-024, 1.92874985e-022, 2.52616378e-020,\n",
       "        2.57675711e-018, 2.04697171e-016, 1.26641655e-014,\n",
       "        6.10193668e-013, 2.28973485e-011, 6.69158609e-010,\n",
       "        1.52299797e-008, 2.69957850e-007, 3.72665317e-006],\n",
       "       [1.75568810e-063, 7.61489029e-060, 2.57220937e-056,\n",
       "        6.76667568e-053, 1.38634329e-049, 2.21203803e-046,\n",
       "        2.74878501e-043, 2.66020642e-040, 2.00500878e-037,\n",
       "        1.17691094e-034, 5.38018616e-032, 1.91547895e-029,\n",
       "        5.31109225e-027, 1.14687658e-024, 1.92874985e-022,\n",
       "        2.52616378e-020, 2.57675711e-018, 2.04697171e-016,\n",
       "        1.26641655e-014, 6.10193668e-013, 2.28973485e-011,\n",
       "        6.69158609e-010, 1.52299797e-008, 2.69957850e-007],\n",
       "       [3.15251716e-067, 1.75568810e-063, 7.61489029e-060,\n",
       "        2.57220937e-056, 6.76667568e-053, 1.38634329e-049,\n",
       "        2.21203803e-046, 2.74878501e-043, 2.66020642e-040,\n",
       "        2.00500878e-037, 1.17691094e-034, 5.38018616e-032,\n",
       "        1.91547895e-029, 5.31109225e-027, 1.14687658e-024,\n",
       "        1.92874985e-022, 2.52616378e-020, 2.57675711e-018,\n",
       "        2.04697171e-016, 1.26641655e-014, 6.10193668e-013,\n",
       "        2.28973485e-011, 6.69158609e-010, 1.52299797e-008],\n",
       "       [4.40853133e-071, 3.15251716e-067, 1.75568810e-063,\n",
       "        7.61489029e-060, 2.57220937e-056, 6.76667568e-053,\n",
       "        1.38634329e-049, 2.21203803e-046, 2.74878501e-043,\n",
       "        2.66020642e-040, 2.00500878e-037, 1.17691094e-034,\n",
       "        5.38018616e-032, 1.91547895e-029, 5.31109225e-027,\n",
       "        1.14687658e-024, 1.92874985e-022, 2.52616378e-020,\n",
       "        2.57675711e-018, 2.04697171e-016, 1.26641655e-014,\n",
       "        6.10193668e-013, 2.28973485e-011, 6.69158609e-010],\n",
       "       [4.80127724e-075, 4.40853133e-071, 3.15251716e-067,\n",
       "        1.75568810e-063, 7.61489029e-060, 2.57220937e-056,\n",
       "        6.76667568e-053, 1.38634329e-049, 2.21203803e-046,\n",
       "        2.74878501e-043, 2.66020642e-040, 2.00500878e-037,\n",
       "        1.17691094e-034, 5.38018616e-032, 1.91547895e-029,\n",
       "        5.31109225e-027, 1.14687658e-024, 1.92874985e-022,\n",
       "        2.52616378e-020, 2.57675711e-018, 2.04697171e-016,\n",
       "        1.26641655e-014, 6.10193668e-013, 2.28973485e-011],\n",
       "       [4.07235863e-079, 4.80127724e-075, 4.40853133e-071,\n",
       "        3.15251716e-067, 1.75568810e-063, 7.61489029e-060,\n",
       "        2.57220937e-056, 6.76667568e-053, 1.38634329e-049,\n",
       "        2.21203803e-046, 2.74878501e-043, 2.66020642e-040,\n",
       "        2.00500878e-037, 1.17691094e-034, 5.38018616e-032,\n",
       "        1.91547895e-029, 5.31109225e-027, 1.14687658e-024,\n",
       "        1.92874985e-022, 2.52616378e-020, 2.57675711e-018,\n",
       "        2.04697171e-016, 1.26641655e-014, 6.10193668e-013],\n",
       "       [2.69005790e-083, 4.07235863e-079, 4.80127724e-075,\n",
       "        4.40853133e-071, 3.15251716e-067, 1.75568810e-063,\n",
       "        7.61489029e-060, 2.57220937e-056, 6.76667568e-053,\n",
       "        1.38634329e-049, 2.21203803e-046, 2.74878501e-043,\n",
       "        2.66020642e-040, 2.00500878e-037, 1.17691094e-034,\n",
       "        5.38018616e-032, 1.91547895e-029, 5.31109225e-027,\n",
       "        1.14687658e-024, 1.92874985e-022, 2.52616378e-020,\n",
       "        2.57675711e-018, 2.04697171e-016, 1.26641655e-014],\n",
       "       [1.38389653e-087, 2.69005790e-083, 4.07235863e-079,\n",
       "        4.80127724e-075, 4.40853133e-071, 3.15251716e-067,\n",
       "        1.75568810e-063, 7.61489029e-060, 2.57220937e-056,\n",
       "        6.76667568e-053, 1.38634329e-049, 2.21203803e-046,\n",
       "        2.74878501e-043, 2.66020642e-040, 2.00500878e-037,\n",
       "        1.17691094e-034, 5.38018616e-032, 1.91547895e-029,\n",
       "        5.31109225e-027, 1.14687658e-024, 1.92874985e-022,\n",
       "        2.52616378e-020, 2.57675711e-018, 2.04697171e-016],\n",
       "       [5.54462259e-092, 1.38389653e-087, 2.69005790e-083,\n",
       "        4.07235863e-079, 4.80127724e-075, 4.40853133e-071,\n",
       "        3.15251716e-067, 1.75568810e-063, 7.61489029e-060,\n",
       "        2.57220937e-056, 6.76667568e-053, 1.38634329e-049,\n",
       "        2.21203803e-046, 2.74878501e-043, 2.66020642e-040,\n",
       "        2.00500878e-037, 1.17691094e-034, 5.38018616e-032,\n",
       "        1.91547895e-029, 5.31109225e-027, 1.14687658e-024,\n",
       "        1.92874985e-022, 2.52616378e-020, 2.57675711e-018],\n",
       "       [1.73008221e-096, 5.54462259e-092, 1.38389653e-087,\n",
       "        2.69005790e-083, 4.07235863e-079, 4.80127724e-075,\n",
       "        4.40853133e-071, 3.15251716e-067, 1.75568810e-063,\n",
       "        7.61489029e-060, 2.57220937e-056, 6.76667568e-053,\n",
       "        1.38634329e-049, 2.21203803e-046, 2.74878501e-043,\n",
       "        2.66020642e-040, 2.00500878e-037, 1.17691094e-034,\n",
       "        5.38018616e-032, 1.91547895e-029, 5.31109225e-027,\n",
       "        1.14687658e-024, 1.92874985e-022, 2.52616378e-020],\n",
       "       [4.20424358e-101, 1.73008221e-096, 5.54462259e-092,\n",
       "        1.38389653e-087, 2.69005790e-083, 4.07235863e-079,\n",
       "        4.80127724e-075, 4.40853133e-071, 3.15251716e-067,\n",
       "        1.75568810e-063, 7.61489029e-060, 2.57220937e-056,\n",
       "        6.76667568e-053, 1.38634329e-049, 2.21203803e-046,\n",
       "        2.74878501e-043, 2.66020642e-040, 2.00500878e-037,\n",
       "        1.17691094e-034, 5.38018616e-032, 1.91547895e-029,\n",
       "        5.31109225e-027, 1.14687658e-024, 1.92874985e-022],\n",
       "       [7.95674389e-106, 4.20424358e-101, 1.73008221e-096,\n",
       "        5.54462259e-092, 1.38389653e-087, 2.69005790e-083,\n",
       "        4.07235863e-079, 4.80127724e-075, 4.40853133e-071,\n",
       "        3.15251716e-067, 1.75568810e-063, 7.61489029e-060,\n",
       "        2.57220937e-056, 6.76667568e-053, 1.38634329e-049,\n",
       "        2.21203803e-046, 2.74878501e-043, 2.66020642e-040,\n",
       "        2.00500878e-037, 1.17691094e-034, 5.38018616e-032,\n",
       "        1.91547895e-029, 5.31109225e-027, 1.14687658e-024],\n",
       "       [1.17276033e-110, 7.95674389e-106, 4.20424358e-101,\n",
       "        1.73008221e-096, 5.54462259e-092, 1.38389653e-087,\n",
       "        2.69005790e-083, 4.07235863e-079, 4.80127724e-075,\n",
       "        4.40853133e-071, 3.15251716e-067, 1.75568810e-063,\n",
       "        7.61489029e-060, 2.57220937e-056, 6.76667568e-053,\n",
       "        1.38634329e-049, 2.21203803e-046, 2.74878501e-043,\n",
       "        2.66020642e-040, 2.00500878e-037, 1.17691094e-034,\n",
       "        5.38018616e-032, 1.91547895e-029, 5.31109225e-027],\n",
       "       [1.34619985e-115, 1.17276033e-110, 7.95674389e-106,\n",
       "        4.20424358e-101, 1.73008221e-096, 5.54462259e-092,\n",
       "        1.38389653e-087, 2.69005790e-083, 4.07235863e-079,\n",
       "        4.80127724e-075, 4.40853133e-071, 3.15251716e-067,\n",
       "        1.75568810e-063, 7.61489029e-060, 2.57220937e-056,\n",
       "        6.76667568e-053, 1.38634329e-049, 2.21203803e-046,\n",
       "        2.74878501e-043, 2.66020642e-040, 2.00500878e-037,\n",
       "        1.17691094e-034, 5.38018616e-032, 1.91547895e-029],\n",
       "       [1.20347254e-120, 1.34619985e-115, 1.17276033e-110,\n",
       "        7.95674389e-106, 4.20424358e-101, 1.73008221e-096,\n",
       "        5.54462259e-092, 1.38389653e-087, 2.69005790e-083,\n",
       "        4.07235863e-079, 4.80127724e-075, 4.40853133e-071,\n",
       "        3.15251716e-067, 1.75568810e-063, 7.61489029e-060,\n",
       "        2.57220937e-056, 6.76667568e-053, 1.38634329e-049,\n",
       "        2.21203803e-046, 2.74878501e-043, 2.66020642e-040,\n",
       "        2.00500878e-037, 1.17691094e-034, 5.38018616e-032]])"
      ]
     },
     "metadata": {},
     "output_type": "display_data"
    }
   ],
   "source": [
    "display(K_XXpr)"
   ]
  }
 ],
 "metadata": {
  "kernelspec": {
   "display_name": "Python 3",
   "language": "python",
   "name": "python3"
  },
  "language_info": {
   "codemirror_mode": {
    "name": "ipython",
    "version": 3
   },
   "file_extension": ".py",
   "mimetype": "text/x-python",
   "name": "python",
   "nbconvert_exporter": "python",
   "pygments_lexer": "ipython3",
   "version": "3.7.4"
  }
 },
 "nbformat": 4,
 "nbformat_minor": 2
}
