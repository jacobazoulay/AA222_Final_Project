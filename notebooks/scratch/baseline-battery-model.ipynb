{
 "cells": [
  {
   "cell_type": "markdown",
   "metadata": {},
   "source": [
    "## Battery Charging Model \n",
    "Inspired by \"[2] Optimizing the operation of energy storage using a non-linear lithium-ion battery degradation model\""
   ]
  },
  {
   "cell_type": "markdown",
   "metadata": {},
   "source": [
    "### Objective Functions \n",
    "1. Balances Revenue stream and Degradation (Multi-Objetive Optimization) \\\n",
    "$\\zeta = \\omega{R} - (1 - \\omega)D$ \\\n",
    "$\\boldsymbol{\\omega}$ $\\rightarrow$ weighting factor $[0 \\rightarrow 1]$ \\\n",
    "$\\boldsymbol{D} \\rightarrow$ total degradation in market period $[Ah]$\\\n",
    "$\\boldsymbol{R} \\rightarrow revenue $ [\\$]\\\n",
    "2. Aims to maximize revenue \\\n",
    "$R = \\sum_t[\\lambda_t \\times (P_t^{dis,m} - P_t^{ch,m})]\\times\\Delta{T}$ \\\n",
    "$\\boldsymbol{R} \\rightarrow $ market clearing price $[\\frac{\\$}{Wh}]$\\\n",
    "$\\boldsymbol{\\lambda_t} \\rightarrow revenue [dollars]$ \\\n",
    "$\\boldsymbol{P_t^{dis,m}} \\rightarrow$ max power input to battery in trading interval $[W]$ \\\n",
    "$\\boldsymbol{P_t^{ch, m}} \\rightarrow$ max power output to battery in trading interval $[W]$ \\\n",
    "$\\boldsymbol{\\Delta{T}} \\rightarrow$ duration of trading interval $[hr]$ \\\n",
    "3. Aims to reduce degradation\n",
    "$D = \\sum_t{d_t}$\\\n",
    "$\\boldsymbol{D} \\rightarrow$ total degradation in market period $[Ah]$\\\n",
    "$\\boldsymbol{d_t} \\rightarrow$ total degradation incurred in each period $[Ah]$\\\n",
    "\n"
   ]
  },
  {
   "cell_type": "markdown",
   "metadata": {},
   "source": [
    "### Battery Updates\n",
    "4. Updates the state of the battery\\\n",
    "${SOC} = {SOC}_{t-1} + \\frac{(P_t^{dis,m} - P_t^{ch,m})\\times\\Delta{T}}{V_{nom}I_{1C}}$\\\n",
    "$\\boldsymbol{SOC_t} \\rightarrow$ state of charge, % measure of remaining capacity $[0 \\rightarrow 100]$\\\n",
    "$\\boldsymbol{P_t^{dis,m}} \\rightarrow$ max power output to battery in trading interval $[W]$ \\\n",
    "$\\boldsymbol{P_t^{ch, m}} \\rightarrow$ max power input to battery in trading interval $[W]$ \\\n",
    "$\\boldsymbol{\\Delta{T}} \\rightarrow$ duration of trading interval $[hr]$ \\\n",
    "$\\boldsymbol{V_{nom}} \\rightarrow$ nominal battery voltage $[V]$: The reported or reference voltage of the battery, $[4]$\\\n",
    "$\\boldsymbol{I_{1C}} \\rightarrow$ 1C Current $[A]$:s. A C-rate is a measure of the rate at which a battery is discharged relative to its\n",
    "maximum capacity. A 1C rate means that the discharge current will discharge the entire\n",
    "battery in 1 hour $[4]$"
   ]
  },
  {
   "cell_type": "markdown",
   "metadata": {},
   "source": [
    "### Constraints on Battery Updates\n",
    "5-6. These are constraints that limit the maximum power input and output and also ensure that battery is either charged or discharged in any time interval\n",
    "$0 \\leq P_t^{ch,b} \\leq P_t^{ch, m} \\times u_t$\\\n",
    "$0 \\leq P_t^{dis,b} \\leq P_t^{dis, m} \\times (1 - u_t)$\\\n",
    "$u_t = \\text{0 or 1} \\rightarrow binary$\\\n",
    "$\\boldsymbol{P_t^{dis,m}} \\rightarrow$ max power output to battery in trading interval $[W]$ \\\n",
    "$\\boldsymbol{P_t^{ch, m}} \\rightarrow$ max power input to battery in trading interval $[W]$ \\\n",
    "\\\n",
    "$ P_t^{ch,b} = P_t^{ch, m}\\eta$\\\n",
    "$ \\eta P_t^{dis,b} = P_t^{dis, m}$\n",
    "$ \\eta > 0$\n",
    "$\\boldsymbol{P_t^{dis,m}} \\rightarrow$ max power output to battery in trading interval $[W]$ \\\n",
    "$\\boldsymbol{P_t^{ch, m}} \\rightarrow$ max power input to battery in trading interval $[W]$ \\\n",
    "\n",
    "7. Sets boundary on SOC\\\n",
    "$0 \\leq SOC_t \\leq 100$ \n",
    "$\\boldsymbol{SOC_t} \\rightarrow$ state of charge, % measure of remaining capacity $[0 \\rightarrow 100]$\\\n"
   ]
  },
  {
   "cell_type": "markdown",
   "metadata": {},
   "source": [
    "## Battery Class Definition"
   ]
  },
  {
   "cell_type": "code",
   "execution_count": 40,
   "metadata": {},
   "outputs": [],
   "source": [
    "import numpy as np\n",
    "import matplotlib.pyplot as plt\n",
    "\n",
    "\n",
    "# Battery Class Definition Template\n",
    "class Battery():\n",
    "    # Defining global static class variables\n",
    "    global SOC_x, cum_deg_y, i_x, psi_y\n",
    "    \n",
    "    # Cumulative degredation mapping manually determined based on fig 4 in the paper\n",
    "    SOC_x = np.linspace(0.0, 100.0, num=11)\n",
    "    cum_deg_y = np.array([0.0, 39.0, 47.0, 75.0, 75.0, 84.0, 101.0, 160.0, 269.0, 325.0, 372.0])\n",
    "    \n",
    "    # Psi scaling factor using experimental data to linearly interpolate depending on current\n",
    "    i_x = np.array([0.0, 1.0, 2.0])\n",
    "    psi_y = np.array([0.0, 1.0, 1.2956])\n",
    "    \n",
    "    \n",
    "    # Initialize with instance variables for battery charging/degradation\n",
    "    \n",
    "    # SOC --> State of charge [represents measure of remaining capacity in percentage form]\n",
    "    # V_nom --> Nominal Voltage [Volts]\n",
    "    # P_ch_max --> Max power oup\n",
    "    # charging --> boolen: True if charging, False if dissipating\n",
    "    # eta --> Battery inefficiency constant (this is approximation from [2])\n",
    "    def __init__(self):\n",
    "        # Constants\n",
    "        self.V_nom = 5           # [Volts] --> do research to determine starting value\n",
    "        self.IC1 = 1             # [Variable] --> Can optimize during charging cycle\n",
    "        self.P_ch_max = 1        # [Watt] --> do research to determine starting value\n",
    "        self.P_dis_max = 1       # [Watt] --> do research to determine starting value\n",
    "        self.eta = .95           # [Constant] Initial guess at inefficiency constant\n",
    "        self.deltaT = 1          # [Hours] Duration of trading interval  \n",
    "        \n",
    "        # Variables\n",
    "        self.SOC = 100           # [Percentage]\n",
    "        self.SOC_prev = 100      # [Percentage]\n",
    "        self.d_t1C = 1           # [Amp Hours] degredation at 1C charge during one time interval\n",
    "        self.psi_t = 1           # [unitless] scaling factor of degredation depending on current\n",
    "        self.d_t = 1             # [Amp Hours] \n",
    "        self.charging = False    # [Bool] Initialize as not charging\n",
    "        self.P_ch_b = 0          # [Watt] current charge power input to battery\n",
    "        self.P_dis_b = 0         # [Watt] current discharge power output from battery\n",
    "        self.Q = 1e2             # [Amp Hours] Weighted Capacity of the battery\n",
    "\n",
    "        \n",
    "#     P_ch_b = P_ch_m * eta\n",
    "#     P_dis_b = P_dis_m / eta\n",
    "        \n",
    "        \n",
    "    def setSOC(self, val):\n",
    "        if (val > 100 or val < 0):\n",
    "            raise ValueError(\"SOC must be between 0 and 100\")\n",
    "        else:\n",
    "            self.SOC = val\n",
    "              \n",
    "                \n",
    "    def updateSOC(self):\n",
    "        # Updates the SOC from one trading interval to the next    \n",
    "        self.SOC_prev = self.SOC\n",
    "        self.SOC = self.SOC_prev + (self.P_ch_b - self.P_dis_b)*self.deltaT / (self.V_nom * self.IC1)\n",
    "        \n",
    "        #Ensure that SOC lies in between 0 and 100 (constraint 7)\n",
    "        self.SOC = max(0, self.SOC)\n",
    "        self.SOC = min(100, self.SOC)\n",
    "    \n",
    "    \n",
    "    def getD_t1C(self):\n",
    "        # Calculate d_t1C = abs(delta_t - delta_t-1)\n",
    "        delta1C = np.interp(self.SOC, SOC_x, cum_deg_y)\n",
    "        delta1C_prev = np.interp(self.SOC_prev, SOC_x, cum_deg_y)\n",
    "        d_t1C = np.abs(delta1C - delta1C_prev)\n",
    "        self.d_t1C = d_t1C\n",
    "    \n",
    "    \n",
    "    def plotCum_Deg(self):\n",
    "        # Plots essentially the same plot as fig 4 in the paper\n",
    "        plt.plot(SOC_x, cum_deg_y, marker='D')\n",
    "        plt.xlabel(\"SOC (%)\")\n",
    "        plt.ylabel(\"Cumulative Degredation (10^-6 Ah)\")\n",
    "    \n",
    "    \n",
    "    def getPsi(self):\n",
    "        # Calculate i_t and use to determine psi\n",
    "        i_t = (self.P_ch_b + self.P_dis_b) / (self.V_nom * self.IC1)\n",
    "        psi_t = np.interp(i_t, i_x, psi_y)\n",
    "        self.psi_t = psi_t\n",
    "    \n",
    "    \n",
    "    def getD_t(self):\n",
    "        # Calculate d_t as a function of d_t1C and psi_t\n",
    "        d_t = ((self.d_t1C + self.psi_t) / 2) ** 2 - ((self.d_t1C - self.psi_t) / 2) ** 2\n",
    "        self.d_t = d_t\n",
    "        \n",
    "    def updateQ(self):\n",
    "        self.Q -= self.d_t*self.psi_t*self.deltaT\n",
    "    \n",
    "    \n",
    "        "
   ]
  },
  {
   "cell_type": "markdown",
   "metadata": {},
   "source": [
    "Very minimal example of how to do equation 4"
   ]
  },
  {
   "cell_type": "code",
   "execution_count": 18,
   "metadata": {},
   "outputs": [
    {
     "name": "stdout",
     "output_type": "stream",
     "text": [
      "Starting battery SOC:  55.0\n",
      "Updated battery SOC:   53.0\n"
     ]
    }
   ],
   "source": [
    "bat = Battery()\n",
    "bat.setSOC(55.0) # Set the initial charge\n",
    "powerCharged = 0 #W\n",
    "powerDissipated = 10 #W\n",
    "bat.P_ch_b = powerCharged\n",
    "bat.P_dis_b = powerDissipated\n",
    "\n",
    "print(\"Starting battery SOC: \", bat.SOC)\n",
    "bat.updateSOC()\n",
    "print(\"Updated battery SOC:  \", bat.SOC)"
   ]
  },
  {
   "cell_type": "code",
   "execution_count": 50,
   "metadata": {},
   "outputs": [
    {
     "name": "stdout",
     "output_type": "stream",
     "text": [
      "Degredation at 1C current rate:       3.4000000000000057\n",
      "Scaling factor psi:                   1.2956\n",
      "Degradation after one time interval:  4.459964840000011\n"
     ]
    }
   ],
   "source": [
    "bat.getD_t1C()\n",
    "bat.getPsi()\n",
    "bat.getD_t()\n",
    "print(\"Degredation at 1C current rate:      \", bat.d_t1C)\n",
    "print(\"Scaling factor psi:                  \", bat.psi_t)\n",
    "print(\"Degradation after one time interval: \", bat.d_t)"
   ]
  },
  {
   "cell_type": "code",
   "execution_count": 51,
   "metadata": {},
   "outputs": [
    {
     "data": {
      "image/png": "[encoded data removed]",
      "text/plain": [
       "<Figure size 432x288 with 1 Axes>"
      ]
     },
     "metadata": {
      "needs_background": "light"
     },
     "output_type": "display_data"
    }
   ],
   "source": [
    "bat.plotCum_Deg()\n"
   ]
  },
  {
   "cell_type": "markdown",
   "metadata": {},
   "source": [
    "### Example\n",
    "Simple example to compare how battery degradation and life are related. Note, the beginning battery capacity in this example is extremely low for plotting purposes."
   ]
  },
  {
   "cell_type": "code",
   "execution_count": 57,
   "metadata": {},
   "outputs": [
    {
     "data": {
      "image/png": "[encoded data removed]",
      "text/plain": [
       "<Figure size 432x288 with 1 Axes>"
      ]
     },
     "metadata": {
      "needs_background": "light"
     },
     "output_type": "display_data"
    },
    {
     "name": "stdout",
     "output_type": "stream",
     "text": [
      "Note how it plateaus when the battery becomes completely discharged\n"
     ]
    }
   ],
   "source": [
    "bat = Battery()\n",
    "bat.P_dis_b = bat.P_dis_max\n",
    "bat_capacity_over_time = []\n",
    "bat_percentage_over_time = []\n",
    "n = 600\n",
    "for i in range(n):\n",
    "    bat.updateSOC()\n",
    "    bat.getPsi()\n",
    "    bat.getD_t1C()\n",
    "    bat.getD_t()\n",
    "    bat.updateQ()\n",
    "    bat_capacity_over_time.append(bat.Q)\n",
    "    bat_percentage_over_time.append(bat.SOC)\n",
    "\n",
    "plt.xlabel(\"Iterations of time step t\")\n",
    "plt.ylabel(\"Battery Capacity (mAh)/ Battery SoC (%)\")\n",
    "plt.title(\"Battery Capacity over single discharge cycle at 1 W\")\n",
    "plt.plot(range(n), bat_capacity_over_time)\n",
    "plt.plot(range(n), bat_percentage_over_time)\n",
    "plt.legend({\"Battery Capacity [mAh]\", \"Battery SOC [%]\"})\n",
    "plt.show()\n",
    "print(\"Note how it plateaus when the battery becomes completely discharged\")\n"
   ]
  },
  {
   "cell_type": "code",
   "execution_count": null,
   "metadata": {},
   "outputs": [],
   "source": []
  }
 ],
 "metadata": {
  "kernelspec": {
   "display_name": "Python 3 (ipykernel)",
   "language": "python",
   "name": "python3"
  },
  "language_info": {
   "codemirror_mode": {
    "name": "ipython",
    "version": 3
   },
   "file_extension": ".py",
   "mimetype": "text/x-python",
   "name": "python",
   "nbconvert_exporter": "python",
   "pygments_lexer": "ipython3",
   "version": "3.10.0"
  }
 },
 "nbformat": 4,
 "nbformat_minor": 2
}
